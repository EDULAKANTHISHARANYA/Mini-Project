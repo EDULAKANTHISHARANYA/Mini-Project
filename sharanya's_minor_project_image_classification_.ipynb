{
  "nbformat": 4,
  "nbformat_minor": 0,
  "metadata": {
    "colab": {
      "name": "sharanya's minor project image classification .ipynb",
      "provenance": [],
      "collapsed_sections": [],
      "authorship_tag": "ABX9TyNhPbgq6OmuO7uWY0lfavJb",
      "include_colab_link": true
    },
    "kernelspec": {
      "display_name": "Python 3",
      "name": "python3"
    },
    "language_info": {
      "name": "python"
    }
  },
  "cells": [
    {
      "cell_type": "markdown",
      "metadata": {
        "id": "view-in-github",
        "colab_type": "text"
      },
      "source": [
        "<a href=\"https://colab.research.google.com/github/EDULAKANTHISHARANYA/Mini-Project/blob/main/sharanya's_minor_project_image_classification_.ipynb\" target=\"_parent\"><img src=\"https://colab.research.google.com/assets/colab-badge.svg\" alt=\"Open In Colab\"/></a>"
      ]
    },
    {
      "cell_type": "code",
      "metadata": {
        "colab": {
          "base_uri": "https://localhost:8080/"
        },
        "id": "sHPJV7LnCnbD",
        "outputId": "b9a0a797-ae49-4116-c621-fd0fa6045abd"
      },
      "source": [
        "!pip install ipython_autotime\n",
        "%load_ext autotime"
      ],
      "execution_count": 1,
      "outputs": [
        {
          "output_type": "stream",
          "text": [
            "Collecting ipython_autotime\n",
            "  Downloading https://files.pythonhosted.org/packages/b4/c9/b413a24f759641bc27ef98c144b590023c8038dfb8a3f09e713e9dff12c1/ipython_autotime-0.3.1-py2.py3-none-any.whl\n",
            "Requirement already satisfied: ipython in /usr/local/lib/python3.7/dist-packages (from ipython_autotime) (5.5.0)\n",
            "Requirement already satisfied: traitlets>=4.2 in /usr/local/lib/python3.7/dist-packages (from ipython->ipython_autotime) (5.0.5)\n",
            "Requirement already satisfied: setuptools>=18.5 in /usr/local/lib/python3.7/dist-packages (from ipython->ipython_autotime) (57.0.0)\n",
            "Requirement already satisfied: pygments in /usr/local/lib/python3.7/dist-packages (from ipython->ipython_autotime) (2.6.1)\n",
            "Requirement already satisfied: simplegeneric>0.8 in /usr/local/lib/python3.7/dist-packages (from ipython->ipython_autotime) (0.8.1)\n",
            "Requirement already satisfied: prompt-toolkit<2.0.0,>=1.0.4 in /usr/local/lib/python3.7/dist-packages (from ipython->ipython_autotime) (1.0.18)\n",
            "Requirement already satisfied: decorator in /usr/local/lib/python3.7/dist-packages (from ipython->ipython_autotime) (4.4.2)\n",
            "Requirement already satisfied: pexpect; sys_platform != \"win32\" in /usr/local/lib/python3.7/dist-packages (from ipython->ipython_autotime) (4.8.0)\n",
            "Requirement already satisfied: pickleshare in /usr/local/lib/python3.7/dist-packages (from ipython->ipython_autotime) (0.7.5)\n",
            "Requirement already satisfied: ipython-genutils in /usr/local/lib/python3.7/dist-packages (from traitlets>=4.2->ipython->ipython_autotime) (0.2.0)\n",
            "Requirement already satisfied: six>=1.9.0 in /usr/local/lib/python3.7/dist-packages (from prompt-toolkit<2.0.0,>=1.0.4->ipython->ipython_autotime) (1.15.0)\n",
            "Requirement already satisfied: wcwidth in /usr/local/lib/python3.7/dist-packages (from prompt-toolkit<2.0.0,>=1.0.4->ipython->ipython_autotime) (0.2.5)\n",
            "Requirement already satisfied: ptyprocess>=0.5 in /usr/local/lib/python3.7/dist-packages (from pexpect; sys_platform != \"win32\"->ipython->ipython_autotime) (0.7.0)\n",
            "Installing collected packages: ipython-autotime\n",
            "Successfully installed ipython-autotime-0.3.1\n",
            "time: 2.7 ms (started: 2021-06-26 06:54:07 +00:00)\n"
          ],
          "name": "stdout"
        }
      ]
    },
    {
      "cell_type": "code",
      "metadata": {
        "colab": {
          "base_uri": "https://localhost:8080/"
        },
        "id": "9d5umAsuC059",
        "outputId": "9d7e1292-9690-42ff-902a-02046cea5fc2"
      },
      "source": [
        "!pip install bing_image_downloader"
      ],
      "execution_count": 2,
      "outputs": [
        {
          "output_type": "stream",
          "text": [
            "Collecting bing_image_downloader\n",
            "  Downloading https://files.pythonhosted.org/packages/c2/04/1872a689a30036aa0b81ac9fca124a7413cad71fdab714f727cf1a34b671/bing_image_downloader-1.1.1-py3-none-any.whl\n",
            "Installing collected packages: bing-image-downloader\n",
            "Successfully installed bing-image-downloader-1.1.1\n",
            "time: 3.34 s (started: 2021-06-26 06:54:07 +00:00)\n"
          ],
          "name": "stdout"
        }
      ]
    },
    {
      "cell_type": "code",
      "metadata": {
        "colab": {
          "base_uri": "https://localhost:8080/"
        },
        "id": "HC2Ad8yPC2R0",
        "outputId": "dc8e7bb2-40a4-4745-add1-209e52441b9e"
      },
      "source": [
        "!mkdir images"
      ],
      "execution_count": 3,
      "outputs": [
        {
          "output_type": "stream",
          "text": [
            "time: 117 ms (started: 2021-06-26 06:54:11 +00:00)\n"
          ],
          "name": "stdout"
        }
      ]
    },
    {
      "cell_type": "code",
      "metadata": {
        "colab": {
          "base_uri": "https://localhost:8080/"
        },
        "id": "1OV43EG6C6FK",
        "outputId": "a873849d-fb2c-4f4a-ab46-8f241dcbee3e"
      },
      "source": [
        "from bing_image_downloader import downloader\n",
        "downloader.download(\"car\",limit=30,output_dir='images',adult_filter_off=True)"
      ],
      "execution_count": 4,
      "outputs": [
        {
          "output_type": "stream",
          "text": [
            "[%] Downloading Images to /content/images/car\n",
            "\n",
            "\n",
            "[!!]Indexing page: 1\n",
            "\n",
            "[%] Indexed 10 Images on Page 1.\n",
            "\n",
            "===============================================\n",
            "\n",
            "[%] Downloading Image #1 from https://s1.cdn.autoevolution.com/images/news/gallery/2011-dodge-charger-prices-announced_2.jpg\n",
            "[%] File Downloaded !\n",
            "\n",
            "[%] Downloading Image #2 from https://images.cdn.autocar.co.uk/sites/autocar.co.uk/files/styles/gallery_slide/public/alfa-romeo-giulia-quadrifoglio-alloy-wheels.jpg?itok=z86o3RSz\n",
            "[%] File Downloaded !\n",
            "\n",
            "[%] Downloading Image #3 from https://n4sm.com/blog/wp-content/uploads/2020/09/img_6749-1440x1080.jpg\n",
            "[!] Issue getting: https://n4sm.com/blog/wp-content/uploads/2020/09/img_6749-1440x1080.jpg\n",
            "[!] Error:: <urlopen error [SSL: CERTIFICATE_VERIFY_FAILED] certificate verify failed: unable to get local issuer certificate (_ssl.c:1091)>\n",
            "[%] Downloading Image #3 from https://games.torrentsnack.com/wp-content/uploads/2012/11/GTA-Chinatown-Wars-PSP.jpg\n",
            "[Error]Invalid image, not saving https://games.torrentsnack.com/wp-content/uploads/2012/11/GTA-Chinatown-Wars-PSP.jpg\n",
            "\n",
            "[!] Issue getting: https://games.torrentsnack.com/wp-content/uploads/2012/11/GTA-Chinatown-Wars-PSP.jpg\n",
            "[!] Error:: Invalid image, not saving https://games.torrentsnack.com/wp-content/uploads/2012/11/GTA-Chinatown-Wars-PSP.jpg\n",
            "\n",
            "[%] Downloading Image #3 from https://pearlandpigments.com/wp-content/uploads/carribean6image-e1436548714837.jpeg\n",
            "[%] File Downloaded !\n",
            "\n",
            "[%] Downloading Image #4 from http://lifewithoutandy.com/wp-content/uploads/2020/08/mgk-.jpg\n",
            "[%] File Downloaded !\n",
            "\n",
            "[%] Downloading Image #5 from https://www.maxtraxracing.com/Images/Oval-with-Lights.jpg\n",
            "[%] File Downloaded !\n",
            "\n",
            "[%] Downloading Image #6 from http://i.imgur.com/c7TVP6k.jpg\n",
            "[%] File Downloaded !\n",
            "\n",
            "[%] Downloading Image #7 from https://money-mod.com/uploads/images/1854/original/evil-nun-scary-horror-game-adventure-4.jpg\n",
            "[%] File Downloaded !\n",
            "\n",
            "[%] Downloading Image #8 from https://www.etonline.com/sites/default/files/styles/640xh/public/images/2015-04/EMOTIONALLYRUINED.gif?itok=5-hIde4i\n",
            "[%] File Downloaded !\n",
            "\n",
            "\n",
            "\n",
            "[!!]Indexing page: 2\n",
            "\n",
            "[%] Indexed 10 Images on Page 2.\n",
            "\n",
            "===============================================\n",
            "\n",
            "[%] Downloading Image #9 from https://s1.cdn.autoevolution.com/images/news/gallery/2011-dodge-charger-prices-announced_2.jpg\n",
            "[%] File Downloaded !\n",
            "\n",
            "[%] Downloading Image #10 from https://images.cdn.autocar.co.uk/sites/autocar.co.uk/files/styles/gallery_slide/public/alfa-romeo-giulia-quadrifoglio-alloy-wheels.jpg?itok=z86o3RSz\n",
            "[%] File Downloaded !\n",
            "\n",
            "[%] Downloading Image #11 from https://n4sm.com/blog/wp-content/uploads/2020/09/img_6749-1440x1080.jpg\n",
            "[!] Issue getting: https://n4sm.com/blog/wp-content/uploads/2020/09/img_6749-1440x1080.jpg\n",
            "[!] Error:: <urlopen error [SSL: CERTIFICATE_VERIFY_FAILED] certificate verify failed: unable to get local issuer certificate (_ssl.c:1091)>\n",
            "[%] Downloading Image #11 from https://games.torrentsnack.com/wp-content/uploads/2012/11/GTA-Chinatown-Wars-PSP.jpg\n",
            "[Error]Invalid image, not saving https://games.torrentsnack.com/wp-content/uploads/2012/11/GTA-Chinatown-Wars-PSP.jpg\n",
            "\n",
            "[!] Issue getting: https://games.torrentsnack.com/wp-content/uploads/2012/11/GTA-Chinatown-Wars-PSP.jpg\n",
            "[!] Error:: Invalid image, not saving https://games.torrentsnack.com/wp-content/uploads/2012/11/GTA-Chinatown-Wars-PSP.jpg\n",
            "\n",
            "[%] Downloading Image #11 from https://pearlandpigments.com/wp-content/uploads/carribean6image-e1436548714837.jpeg\n",
            "[%] File Downloaded !\n",
            "\n",
            "[%] Downloading Image #12 from http://lifewithoutandy.com/wp-content/uploads/2020/08/mgk-.jpg\n",
            "[%] File Downloaded !\n",
            "\n",
            "[%] Downloading Image #13 from https://www.maxtraxracing.com/Images/Oval-with-Lights.jpg\n",
            "[%] File Downloaded !\n",
            "\n",
            "[%] Downloading Image #14 from http://i.imgur.com/c7TVP6k.jpg\n",
            "[%] File Downloaded !\n",
            "\n",
            "[%] Downloading Image #15 from https://money-mod.com/uploads/images/1854/original/evil-nun-scary-horror-game-adventure-4.jpg\n",
            "[%] File Downloaded !\n",
            "\n",
            "[%] Downloading Image #16 from https://www.etonline.com/sites/default/files/styles/640xh/public/images/2015-04/EMOTIONALLYRUINED.gif?itok=5-hIde4i\n",
            "[%] File Downloaded !\n",
            "\n",
            "\n",
            "\n",
            "[!!]Indexing page: 3\n",
            "\n",
            "[%] Indexed 9 Images on Page 3.\n",
            "\n",
            "===============================================\n",
            "\n",
            "[%] Downloading Image #17 from https://images.cdn.autocar.co.uk/sites/autocar.co.uk/files/styles/gallery_slide/public/alfa-romeo-giulia-quadrifoglio-alloy-wheels.jpg?itok=z86o3RSz\n",
            "[%] File Downloaded !\n",
            "\n",
            "[%] Downloading Image #18 from https://n4sm.com/blog/wp-content/uploads/2020/09/img_6749-1440x1080.jpg\n",
            "[!] Issue getting: https://n4sm.com/blog/wp-content/uploads/2020/09/img_6749-1440x1080.jpg\n",
            "[!] Error:: <urlopen error [SSL: CERTIFICATE_VERIFY_FAILED] certificate verify failed: unable to get local issuer certificate (_ssl.c:1091)>\n",
            "[%] Downloading Image #18 from https://games.torrentsnack.com/wp-content/uploads/2012/11/GTA-Chinatown-Wars-PSP.jpg\n",
            "[Error]Invalid image, not saving https://games.torrentsnack.com/wp-content/uploads/2012/11/GTA-Chinatown-Wars-PSP.jpg\n",
            "\n",
            "[!] Issue getting: https://games.torrentsnack.com/wp-content/uploads/2012/11/GTA-Chinatown-Wars-PSP.jpg\n",
            "[!] Error:: Invalid image, not saving https://games.torrentsnack.com/wp-content/uploads/2012/11/GTA-Chinatown-Wars-PSP.jpg\n",
            "\n",
            "[%] Downloading Image #18 from https://pearlandpigments.com/wp-content/uploads/carribean6image-e1436548714837.jpeg\n",
            "[%] File Downloaded !\n",
            "\n",
            "[%] Downloading Image #19 from http://lifewithoutandy.com/wp-content/uploads/2020/08/mgk-.jpg\n",
            "[%] File Downloaded !\n",
            "\n",
            "[%] Downloading Image #20 from https://www.maxtraxracing.com/Images/Oval-with-Lights.jpg\n",
            "[%] File Downloaded !\n",
            "\n",
            "[%] Downloading Image #21 from http://i.imgur.com/c7TVP6k.jpg\n",
            "[%] File Downloaded !\n",
            "\n",
            "[%] Downloading Image #22 from https://money-mod.com/uploads/images/1854/original/evil-nun-scary-horror-game-adventure-4.jpg\n",
            "[%] File Downloaded !\n",
            "\n",
            "[%] Downloading Image #23 from https://www.etonline.com/sites/default/files/styles/640xh/public/images/2015-04/EMOTIONALLYRUINED.gif?itok=5-hIde4i\n",
            "[%] File Downloaded !\n",
            "\n",
            "\n",
            "\n",
            "[!!]Indexing page: 4\n",
            "\n",
            "[%] Indexed 8 Images on Page 4.\n",
            "\n",
            "===============================================\n",
            "\n",
            "[%] Downloading Image #24 from https://n4sm.com/blog/wp-content/uploads/2020/09/img_6749-1440x1080.jpg\n",
            "[!] Issue getting: https://n4sm.com/blog/wp-content/uploads/2020/09/img_6749-1440x1080.jpg\n",
            "[!] Error:: <urlopen error [SSL: CERTIFICATE_VERIFY_FAILED] certificate verify failed: unable to get local issuer certificate (_ssl.c:1091)>\n",
            "[%] Downloading Image #24 from https://games.torrentsnack.com/wp-content/uploads/2012/11/GTA-Chinatown-Wars-PSP.jpg\n",
            "[Error]Invalid image, not saving https://games.torrentsnack.com/wp-content/uploads/2012/11/GTA-Chinatown-Wars-PSP.jpg\n",
            "\n",
            "[!] Issue getting: https://games.torrentsnack.com/wp-content/uploads/2012/11/GTA-Chinatown-Wars-PSP.jpg\n",
            "[!] Error:: Invalid image, not saving https://games.torrentsnack.com/wp-content/uploads/2012/11/GTA-Chinatown-Wars-PSP.jpg\n",
            "\n",
            "[%] Downloading Image #24 from https://pearlandpigments.com/wp-content/uploads/carribean6image-e1436548714837.jpeg\n",
            "[%] File Downloaded !\n",
            "\n",
            "[%] Downloading Image #25 from http://lifewithoutandy.com/wp-content/uploads/2020/08/mgk-.jpg\n",
            "[%] File Downloaded !\n",
            "\n",
            "[%] Downloading Image #26 from https://www.maxtraxracing.com/Images/Oval-with-Lights.jpg\n",
            "[%] File Downloaded !\n",
            "\n",
            "[%] Downloading Image #27 from http://i.imgur.com/c7TVP6k.jpg\n",
            "[%] File Downloaded !\n",
            "\n",
            "[%] Downloading Image #28 from https://money-mod.com/uploads/images/1854/original/evil-nun-scary-horror-game-adventure-4.jpg\n",
            "[%] File Downloaded !\n",
            "\n",
            "[%] Downloading Image #29 from https://www.etonline.com/sites/default/files/styles/640xh/public/images/2015-04/EMOTIONALLYRUINED.gif?itok=5-hIde4i\n",
            "[%] File Downloaded !\n",
            "\n",
            "\n",
            "\n",
            "[!!]Indexing page: 5\n",
            "\n",
            "[%] Indexed 7 Images on Page 5.\n",
            "\n",
            "===============================================\n",
            "\n",
            "[%] Downloading Image #30 from http://kerrycustoms.com/images/candigold.jpg\n",
            "[%] File Downloaded !\n",
            "\n",
            "\n",
            "\n",
            "[%] Done. Downloaded 30 images.\n",
            "===============================================\n",
            "\n",
            "Please show your support here\n",
            "https://www.buymeacoffee.com/gurugaurav\n",
            "\n",
            "===============================================\n",
            "\n",
            "time: 11.5 s (started: 2021-06-26 06:54:11 +00:00)\n"
          ],
          "name": "stdout"
        }
      ]
    },
    {
      "cell_type": "code",
      "metadata": {
        "colab": {
          "base_uri": "https://localhost:8080/"
        },
        "id": "GHw3Q3VaDXg5",
        "outputId": "fab3b57e-b103-4e20-da25-4584cef4bcb9"
      },
      "source": [
        "from bing_image_downloader import downloader\n",
        "downloader.download(\"ice cream cone\",limit=30,output_dir='images',adult_filter_off=True)"
      ],
      "execution_count": 5,
      "outputs": [
        {
          "output_type": "stream",
          "text": [
            "[%] Downloading Images to /content/images/ice cream cone\n",
            "\n",
            "\n",
            "[!!]Indexing page: 1\n",
            "\n",
            "[%] Indexed 10 Images on Page 1.\n",
            "\n",
            "===============================================\n",
            "\n",
            "[%] Downloading Image #1 from http://www.the-girl-who-ate-everything.com/wp-content/uploads/2015/05/campfire-cones-6.jpg\n",
            "[%] File Downloaded !\n",
            "\n",
            "[%] Downloading Image #2 from http://images.pushsquare.com/news/2014/05/this_gravity_rush_statue_of_kat_is_as_sweet_as_ice_cream/attachment/1/original.jpg\n",
            "[%] File Downloaded !\n",
            "\n",
            "[%] Downloading Image #3 from https://cdn.carvel.com/-/media/carvel/menu/ice-cream/soft-serve/17-chocolate-hazelnut-new.png?v=1&amp;d=20180430T194952Z&amp;h=600&amp;w=600&amp;la=en&amp;hash=8DA7C8589D1809E6193992B2EAAB8489\n",
            "[%] File Downloaded !\n",
            "\n",
            "[%] Downloading Image #4 from https://www.guidememalta.com/loadimage/47965DD5-75D6-4D1F-8943-A5A53BD00B41\n",
            "[%] File Downloaded !\n",
            "\n",
            "[%] Downloading Image #5 from https://assets3.thrillist.com/v1/image/1244687/size/tmg-article_default_mobile;jpeg_quality=20.jpg\n",
            "[%] File Downloaded !\n",
            "\n",
            "[%] Downloading Image #6 from https://www.bakingbeauty.net/wp-content/uploads/2015/05/Cookie-Monster-Ice-Cream-2-e1431227594558.jpg\n",
            "[%] File Downloaded !\n",
            "\n",
            "[%] Downloading Image #7 from https://data.thefeedfeed.com/static/2019/05/20/15583755405ce2ec74772f2.jpg\n",
            "[%] File Downloaded !\n",
            "\n",
            "[%] Downloading Image #8 from http://splashysplash.com/wp-content/uploads/2012/04/gucci-mane-ice-cream-cone-piece-white-diamonds-jewelry-brick-squad-camer-chain.jpeg\n",
            "[%] File Downloaded !\n",
            "\n",
            "[%] Downloading Image #9 from https://nightchayde.com/wp-content/uploads/2017/09/ice-cream-party-06-683x1024.jpg\n",
            "[%] File Downloaded !\n",
            "\n",
            "[%] Downloading Image #10 from https://i.ebayimg.com/images/i/320411576409-0-1/s-l1000.jpg\n",
            "[%] File Downloaded !\n",
            "\n",
            "\n",
            "\n",
            "[!!]Indexing page: 2\n",
            "\n",
            "[%] Indexed 10 Images on Page 2.\n",
            "\n",
            "===============================================\n",
            "\n",
            "[%] Downloading Image #11 from http://www.the-girl-who-ate-everything.com/wp-content/uploads/2015/05/campfire-cones-6.jpg\n",
            "[%] File Downloaded !\n",
            "\n",
            "[%] Downloading Image #12 from http://images.pushsquare.com/news/2014/05/this_gravity_rush_statue_of_kat_is_as_sweet_as_ice_cream/attachment/1/original.jpg\n",
            "[%] File Downloaded !\n",
            "\n",
            "[%] Downloading Image #13 from https://cdn.carvel.com/-/media/carvel/menu/ice-cream/soft-serve/17-chocolate-hazelnut-new.png?v=1&amp;d=20180430T194952Z&amp;h=600&amp;w=600&amp;la=en&amp;hash=8DA7C8589D1809E6193992B2EAAB8489\n",
            "[%] File Downloaded !\n",
            "\n",
            "[%] Downloading Image #14 from https://www.guidememalta.com/loadimage/47965DD5-75D6-4D1F-8943-A5A53BD00B41\n",
            "[%] File Downloaded !\n",
            "\n",
            "[%] Downloading Image #15 from https://assets3.thrillist.com/v1/image/1244687/size/tmg-article_default_mobile;jpeg_quality=20.jpg\n",
            "[%] File Downloaded !\n",
            "\n",
            "[%] Downloading Image #16 from https://www.bakingbeauty.net/wp-content/uploads/2015/05/Cookie-Monster-Ice-Cream-2-e1431227594558.jpg\n",
            "[%] File Downloaded !\n",
            "\n",
            "[%] Downloading Image #17 from https://data.thefeedfeed.com/static/2019/05/20/15583755405ce2ec74772f2.jpg\n",
            "[%] File Downloaded !\n",
            "\n",
            "[%] Downloading Image #18 from http://splashysplash.com/wp-content/uploads/2012/04/gucci-mane-ice-cream-cone-piece-white-diamonds-jewelry-brick-squad-camer-chain.jpeg\n",
            "[%] File Downloaded !\n",
            "\n",
            "[%] Downloading Image #19 from https://nightchayde.com/wp-content/uploads/2017/09/ice-cream-party-06-683x1024.jpg\n",
            "[%] File Downloaded !\n",
            "\n",
            "[%] Downloading Image #20 from https://i.ebayimg.com/images/i/320411576409-0-1/s-l1000.jpg\n",
            "[%] File Downloaded !\n",
            "\n",
            "\n",
            "\n",
            "[!!]Indexing page: 3\n",
            "\n",
            "[%] Indexed 10 Images on Page 3.\n",
            "\n",
            "===============================================\n",
            "\n",
            "[%] Downloading Image #21 from https://s3.amazonaws.com/img.kh-labs.com/UtpaOM5c5f00f40a2487.33151121\n",
            "[%] File Downloaded !\n",
            "\n",
            "[%] Downloading Image #22 from http://img0.etsystatic.com/015/0/5205551/il_570xN.427294972_4pjm.jpg\n",
            "[%] File Downloaded !\n",
            "\n",
            "[%] Downloading Image #23 from https://www.jbprince.com/images/1134ALT2_zoom.jpg\n",
            "[Error]Invalid image, not saving https://www.jbprince.com/images/1134ALT2_zoom.jpg\n",
            "\n",
            "[!] Issue getting: https://www.jbprince.com/images/1134ALT2_zoom.jpg\n",
            "[!] Error:: Invalid image, not saving https://www.jbprince.com/images/1134ALT2_zoom.jpg\n",
            "\n",
            "[%] Downloading Image #23 from https://www.leisure-italy.com/wp-content/uploads/2019/01/Gelato-1-1140x530.jpg\n",
            "[%] File Downloaded !\n",
            "\n",
            "[%] Downloading Image #24 from https://cdn.carvel.com/-/media/carvel/menu/ice-cream/soft-serve/3-twist-newb.png?v=1&amp;d=20180508T202630Z&amp;h=600&amp;w=600&amp;la=en&amp;hash=422A08EFA8C4843C6778D9BC8A915530EB784B28\n",
            "[%] File Downloaded !\n",
            "\n",
            "[%] Downloading Image #25 from https://i.gifer.com/origin/f8/f8b4f713d3b3e78c620eec03991bc395_w200.gif\n",
            "[%] File Downloaded !\n",
            "\n",
            "[%] Downloading Image #26 from https://www.bing.com/th/id/OGC.f4287bf96ab554a94b42baa8babba6c3?pid=1.7&amp;rurl=https%3a%2f%2fi.gifer.com%2forigin%2ff8%2ff8b4f713d3b3e78c620eec03991bc395_w200.gif&amp;ehk=bkW2NgFAr%2fYzDK4QN2%2flhIwqdJC2Uf4soP2MAScf5Uc%3d\n",
            "[!] Issue getting: https://www.bing.com/th/id/OGC.f4287bf96ab554a94b42baa8babba6c3?pid=1.7&amp;rurl=https%3a%2f%2fi.gifer.com%2forigin%2ff8%2ff8b4f713d3b3e78c620eec03991bc395_w200.gif&amp;ehk=bkW2NgFAr%2fYzDK4QN2%2flhIwqdJC2Uf4soP2MAScf5Uc%3d\n",
            "[!] Error:: HTTP Error 404: Not Found\n",
            "[%] Downloading Image #26 from https://i.ytimg.com/vi/Wf4YgFW3GJU/maxresdefault.jpg\n",
            "[%] File Downloaded !\n",
            "\n",
            "[%] Downloading Image #27 from https://tattoomagz.com/wp-content/uploads/2014/05/Black-ice-cream-tattoo.jpg\n",
            "[%] File Downloaded !\n",
            "\n",
            "[%] Downloading Image #28 from http://test.havmor.com/wp-content/uploads/2017/12/havmor-logo.png\n",
            "[%] File Downloaded !\n",
            "\n",
            "\n",
            "\n",
            "[!!]Indexing page: 4\n",
            "\n",
            "[%] Indexed 9 Images on Page 4.\n",
            "\n",
            "===============================================\n",
            "\n",
            "[%] Downloading Image #29 from http://img0.etsystatic.com/015/0/5205551/il_570xN.427294972_4pjm.jpg\n",
            "[%] File Downloaded !\n",
            "\n",
            "[%] Downloading Image #30 from https://www.jbprince.com/images/1134ALT2_zoom.jpg\n",
            "[%] File Downloaded !\n",
            "\n",
            "\n",
            "\n",
            "[%] Done. Downloaded 30 images.\n",
            "===============================================\n",
            "\n",
            "Please show your support here\n",
            "https://www.buymeacoffee.com/gurugaurav\n",
            "\n",
            "===============================================\n",
            "\n",
            "time: 11.5 s (started: 2021-06-26 06:54:22 +00:00)\n"
          ],
          "name": "stdout"
        }
      ]
    },
    {
      "cell_type": "code",
      "metadata": {
        "colab": {
          "base_uri": "https://localhost:8080/"
        },
        "id": "73Bnk9o4EB0E",
        "outputId": "264f7480-4409-4de2-ca1a-78c663ce591f"
      },
      "source": [
        "from bing_image_downloader import downloader\n",
        "downloader.download(\"man face\",limit=30,output_dir='images',adult_filter_off=True)"
      ],
      "execution_count": 6,
      "outputs": [
        {
          "output_type": "stream",
          "text": [
            "[%] Downloading Images to /content/images/man face\n",
            "\n",
            "\n",
            "[!!]Indexing page: 1\n",
            "\n",
            "[%] Indexed 10 Images on Page 1.\n",
            "\n",
            "===============================================\n",
            "\n",
            "[%] Downloading Image #1 from https://cdn01.dailycaller.com/wp-content/uploads/2018/03/Jesus_Shroud_Of_Turin_Statue-e1522268579425.jpg\n",
            "[%] File Downloaded !\n",
            "\n",
            "[%] Downloading Image #2 from http://shamrockroseaussies.com/yahoo_site_admin/assets/images/DSC_0255.41175606_std.JPG\n",
            "[%] File Downloaded !\n",
            "\n",
            "[%] Downloading Image #3 from http://jawdrops.com/wp-content/uploads/2014/07/j110.jpg\n",
            "[%] File Downloaded !\n",
            "\n",
            "[%] Downloading Image #4 from http://2.bp.blogspot.com/-BSUsumof0Xs/UKhiFrO82CI/AAAAAAAAESM/QNzZDYOjWyY/s1600/Mandrill.jpg\n",
            "[%] File Downloaded !\n",
            "\n",
            "[%] Downloading Image #5 from https://www.independent.com/wp-content/uploads/2011/07/27/Kenneth-Barber-Web.jpg\n",
            "[%] File Downloaded !\n",
            "\n",
            "[%] Downloading Image #6 from http://www.pixologic.com/interview/mass-effect3/5/img/Illusive_man_reaper.jpg\n",
            "[%] File Downloaded !\n",
            "\n",
            "[%] Downloading Image #7 from http://cdn0.wideopenspaces.com/wp-content/uploads/2017/11/trailcamerameme2.jpg\n",
            "[%] File Downloaded !\n",
            "\n",
            "[%] Downloading Image #8 from https://nobility.org/wp-content/uploads/2014/09/612px-Full_length_negatives_of_the_shroud_of_Turin.jpg\n",
            "[%] File Downloaded !\n",
            "\n",
            "[%] Downloading Image #9 from http://www.anorak.co.uk/wp-content/uploads/2012/12/scotch-tape-face-70.jpg\n",
            "[%] File Downloaded !\n",
            "\n",
            "[%] Downloading Image #10 from https://www.insertcoinclothing.com/media/images/products/235_1.jpg\n",
            "[%] File Downloaded !\n",
            "\n",
            "\n",
            "\n",
            "[!!]Indexing page: 2\n",
            "\n",
            "[%] Indexed 10 Images on Page 2.\n",
            "\n",
            "===============================================\n",
            "\n",
            "[%] Downloading Image #11 from https://cdn01.dailycaller.com/wp-content/uploads/2018/03/Jesus_Shroud_Of_Turin_Statue-e1522268579425.jpg\n",
            "[%] File Downloaded !\n",
            "\n",
            "[%] Downloading Image #12 from http://shamrockroseaussies.com/yahoo_site_admin/assets/images/DSC_0255.41175606_std.JPG\n",
            "[%] File Downloaded !\n",
            "\n",
            "[%] Downloading Image #13 from http://jawdrops.com/wp-content/uploads/2014/07/j110.jpg\n",
            "[%] File Downloaded !\n",
            "\n",
            "[%] Downloading Image #14 from http://2.bp.blogspot.com/-BSUsumof0Xs/UKhiFrO82CI/AAAAAAAAESM/QNzZDYOjWyY/s1600/Mandrill.jpg\n",
            "[%] File Downloaded !\n",
            "\n",
            "[%] Downloading Image #15 from https://www.independent.com/wp-content/uploads/2011/07/27/Kenneth-Barber-Web.jpg\n",
            "[%] File Downloaded !\n",
            "\n",
            "[%] Downloading Image #16 from http://www.pixologic.com/interview/mass-effect3/5/img/Illusive_man_reaper.jpg\n",
            "[%] File Downloaded !\n",
            "\n",
            "[%] Downloading Image #17 from http://cdn0.wideopenspaces.com/wp-content/uploads/2017/11/trailcamerameme2.jpg\n",
            "[%] File Downloaded !\n",
            "\n",
            "[%] Downloading Image #18 from https://nobility.org/wp-content/uploads/2014/09/612px-Full_length_negatives_of_the_shroud_of_Turin.jpg\n",
            "[%] File Downloaded !\n",
            "\n",
            "[%] Downloading Image #19 from http://www.anorak.co.uk/wp-content/uploads/2012/12/scotch-tape-face-70.jpg\n",
            "[%] File Downloaded !\n",
            "\n",
            "[%] Downloading Image #20 from https://www.insertcoinclothing.com/media/images/products/235_1.jpg\n",
            "[%] File Downloaded !\n",
            "\n",
            "\n",
            "\n",
            "[!!]Indexing page: 3\n",
            "\n",
            "[%] Indexed 9 Images on Page 3.\n",
            "\n",
            "===============================================\n",
            "\n",
            "[%] Downloading Image #21 from http://2.bp.blogspot.com/-BSUsumof0Xs/UKhiFrO82CI/AAAAAAAAESM/QNzZDYOjWyY/s1600/Mandrill.jpg\n",
            "[%] File Downloaded !\n",
            "\n",
            "[%] Downloading Image #22 from http://jawdrops.com/wp-content/uploads/2014/07/j110.jpg\n",
            "[%] File Downloaded !\n",
            "\n",
            "[%] Downloading Image #23 from http://cdn0.wideopenspaces.com/wp-content/uploads/2017/11/trailcamerameme2.jpg\n",
            "[%] File Downloaded !\n",
            "\n",
            "[%] Downloading Image #24 from http://www.pixologic.com/interview/mass-effect3/5/img/Illusive_man_reaper.jpg\n",
            "[%] File Downloaded !\n",
            "\n",
            "[%] Downloading Image #25 from https://www.insertcoinclothing.com/media/images/products/235_1.jpg\n",
            "[%] File Downloaded !\n",
            "\n",
            "[%] Downloading Image #26 from https://nobility.org/wp-content/uploads/2014/09/612px-Full_length_negatives_of_the_shroud_of_Turin.jpg\n",
            "[%] File Downloaded !\n",
            "\n",
            "[%] Downloading Image #27 from http://www.anorak.co.uk/wp-content/uploads/2012/12/scotch-tape-face-70.jpg\n",
            "[%] File Downloaded !\n",
            "\n",
            "[%] Downloading Image #28 from http://shamrockroseaussies.com/yahoo_site_admin/assets/images/DSC_0255.41175606_std.JPG\n",
            "[%] File Downloaded !\n",
            "\n",
            "[%] Downloading Image #29 from https://www.independent.com/wp-content/uploads/2011/07/27/Kenneth-Barber-Web.jpg\n",
            "[%] File Downloaded !\n",
            "\n",
            "\n",
            "\n",
            "[!!]Indexing page: 4\n",
            "\n",
            "[%] Indexed 8 Images on Page 4.\n",
            "\n",
            "===============================================\n",
            "\n",
            "[%] Downloading Image #30 from http://www.pixologic.com/interview/mass-effect3/5/img/Illusive_man_reaper.jpg\n",
            "[%] File Downloaded !\n",
            "\n",
            "\n",
            "\n",
            "[%] Done. Downloaded 30 images.\n",
            "===============================================\n",
            "\n",
            "Please show your support here\n",
            "https://www.buymeacoffee.com/gurugaurav\n",
            "\n",
            "===============================================\n",
            "\n",
            "time: 10.1 s (started: 2021-06-26 06:54:34 +00:00)\n"
          ],
          "name": "stdout"
        }
      ]
    },
    {
      "cell_type": "code",
      "metadata": {
        "colab": {
          "base_uri": "https://localhost:8080/"
        },
        "id": "963YyNagE37n",
        "outputId": "f4d9830b-f879-45d7-a83d-ec4879be97a0"
      },
      "source": [
        "import numpy as np\n",
        "\n",
        "a = np.array([[1,2,3,4,5],\n",
        "              [4,5,6,7,8]])\n",
        "a.ndim"
      ],
      "execution_count": 7,
      "outputs": [
        {
          "output_type": "execute_result",
          "data": {
            "text/plain": [
              "2"
            ]
          },
          "metadata": {
            "tags": []
          },
          "execution_count": 7
        },
        {
          "output_type": "stream",
          "text": [
            "time: 18.7 ms (started: 2021-06-26 06:54:44 +00:00)\n"
          ],
          "name": "stdout"
        }
      ]
    },
    {
      "cell_type": "code",
      "metadata": {
        "colab": {
          "base_uri": "https://localhost:8080/"
        },
        "id": "wEPoLQ-7FBkq",
        "outputId": "ed217296-8344-45fb-dda9-2ba3214e3746"
      },
      "source": [
        "a.flatten()"
      ],
      "execution_count": 8,
      "outputs": [
        {
          "output_type": "execute_result",
          "data": {
            "text/plain": [
              "array([1, 2, 3, 4, 5, 4, 5, 6, 7, 8])"
            ]
          },
          "metadata": {
            "tags": []
          },
          "execution_count": 8
        },
        {
          "output_type": "stream",
          "text": [
            "time: 15.4 ms (started: 2021-06-26 06:54:44 +00:00)\n"
          ],
          "name": "stdout"
        }
      ]
    },
    {
      "cell_type": "code",
      "metadata": {
        "colab": {
          "base_uri": "https://localhost:8080/"
        },
        "id": "HbYzgnL6FFM6",
        "outputId": "cc916783-0afe-49a6-9223-1a4b30c0ec34"
      },
      "source": [
        "#preprocessing\n",
        "\n",
        "import os\n",
        "import matplotlib.pyplot as plt\n",
        "import numpy as np\n",
        "from skimage.io import imread\n",
        "from skimage.transform import resize\n",
        "\n",
        "target = []\n",
        "images = []\n",
        "flat_data = []\n",
        "\n",
        "DATADIR =\"/content/images\"\n",
        "CATEGORIES = ['car','ice cream cone','man face']\n",
        "\n",
        "for category in CATEGORIES:\n",
        "  class_num = CATEGORIES.index(category)\n",
        "  path = os.path.join(DATADIR,category)\n",
        "  for img in os.listdir(path):\n",
        "    img_array = imread(os.path.join(path,img))\n",
        "    #print(img_array.shape)\n",
        "    #plt.imshow(img_array)\n",
        "    img_resized = resize(img_array,(150,150,3))\n",
        "    flat_data.append(img_resized.flatten())\n",
        "    images.append(img_resized)\n",
        "    target.append(class_num)\n",
        "\n",
        "\n",
        "flat_data =  np.array(flat_data)\n",
        "target = np.array(target)\n",
        "images = np.array(images)"
      ],
      "execution_count": 9,
      "outputs": [
        {
          "output_type": "stream",
          "text": [
            "time: 17 s (started: 2021-06-26 06:54:44 +00:00)\n"
          ],
          "name": "stdout"
        }
      ]
    },
    {
      "cell_type": "code",
      "metadata": {
        "colab": {
          "base_uri": "https://localhost:8080/"
        },
        "id": "CPOIsMIFFsiR",
        "outputId": "67edadc4-7929-4c41-b442-078152a5248c"
      },
      "source": [
        "len(flat_data[0])"
      ],
      "execution_count": 10,
      "outputs": [
        {
          "output_type": "execute_result",
          "data": {
            "text/plain": [
              "67500"
            ]
          },
          "metadata": {
            "tags": []
          },
          "execution_count": 10
        },
        {
          "output_type": "stream",
          "text": [
            "time: 6.23 ms (started: 2021-06-26 06:55:01 +00:00)\n"
          ],
          "name": "stdout"
        }
      ]
    },
    {
      "cell_type": "code",
      "metadata": {
        "colab": {
          "base_uri": "https://localhost:8080/"
        },
        "id": "YzpXevg-J6j1",
        "outputId": "0408adad-39fd-4ecf-9e16-d3976bd7e5a2"
      },
      "source": [
        "150*150*3"
      ],
      "execution_count": 11,
      "outputs": [
        {
          "output_type": "execute_result",
          "data": {
            "text/plain": [
              "67500"
            ]
          },
          "metadata": {
            "tags": []
          },
          "execution_count": 11
        },
        {
          "output_type": "stream",
          "text": [
            "time: 8.33 ms (started: 2021-06-26 06:55:01 +00:00)\n"
          ],
          "name": "stdout"
        }
      ]
    },
    {
      "cell_type": "code",
      "metadata": {
        "colab": {
          "base_uri": "https://localhost:8080/"
        },
        "id": "9dExL908KANw",
        "outputId": "bcd9b7da-e500-4fcd-db82-9a8c11afc7c5"
      },
      "source": [
        "target"
      ],
      "execution_count": 12,
      "outputs": [
        {
          "output_type": "execute_result",
          "data": {
            "text/plain": [
              "array([0, 0, 0, 0, 0, 0, 0, 0, 0, 0, 0, 0, 0, 0, 0, 0, 0, 0, 0, 0, 0, 0,\n",
              "       0, 0, 0, 0, 0, 0, 0, 0, 1, 1, 1, 1, 1, 1, 1, 1, 1, 1, 1, 1, 1, 1,\n",
              "       1, 1, 1, 1, 1, 1, 1, 1, 1, 1, 1, 1, 1, 1, 1, 1, 2, 2, 2, 2, 2, 2,\n",
              "       2, 2, 2, 2, 2, 2, 2, 2, 2, 2, 2, 2, 2, 2, 2, 2, 2, 2, 2, 2, 2, 2,\n",
              "       2, 2])"
            ]
          },
          "metadata": {
            "tags": []
          },
          "execution_count": 12
        },
        {
          "output_type": "stream",
          "text": [
            "time: 6.62 ms (started: 2021-06-26 06:55:01 +00:00)\n"
          ],
          "name": "stdout"
        }
      ]
    },
    {
      "cell_type": "code",
      "metadata": {
        "colab": {
          "base_uri": "https://localhost:8080/",
          "height": 301
        },
        "id": "5bm_z-N9K4Ra",
        "outputId": "8f1cd072-6e84-491a-92e6-a61531be82fe"
      },
      "source": [
        "unique,count = np.unique(target,return_counts=True)\n",
        "plt.bar(CATEGORIES,count)"
      ],
      "execution_count": 13,
      "outputs": [
        {
          "output_type": "execute_result",
          "data": {
            "text/plain": [
              "<BarContainer object of 3 artists>"
            ]
          },
          "metadata": {
            "tags": []
          },
          "execution_count": 13
        },
        {
          "output_type": "display_data",
          "data": {
            "image/png": "[encoded data removed]",
            "text/plain": [
              "<Figure size 432x288 with 1 Axes>"
            ]
          },
          "metadata": {
            "tags": [],
            "needs_background": "light"
          }
        },
        {
          "output_type": "stream",
          "text": [
            "time: 191 ms (started: 2021-06-26 06:55:01 +00:00)\n"
          ],
          "name": "stdout"
        }
      ]
    },
    {
      "cell_type": "code",
      "metadata": {
        "colab": {
          "base_uri": "https://localhost:8080/"
        },
        "id": "gIRhgmHLLFZl",
        "outputId": "f7a411e1-6d15-46ad-8674-da197f75596a"
      },
      "source": [
        "# split data into Traning and testing\n",
        "from sklearn.model_selection import train_test_split\n",
        "x_train,x_test,y_train,y_test = train_test_split(flat_data,target,\n",
        "                                  test_size=0.3,random_state=109)"
      ],
      "execution_count": 14,
      "outputs": [
        {
          "output_type": "stream",
          "text": [
            "time: 223 ms (started: 2021-06-26 06:55:01 +00:00)\n"
          ],
          "name": "stdout"
        }
      ]
    },
    {
      "cell_type": "code",
      "metadata": {
        "colab": {
          "base_uri": "https://localhost:8080/"
        },
        "id": "QgbUe_Cb_J41",
        "outputId": "abdd2c86-7df2-432e-d504-abb4c3548cd5"
      },
      "source": [
        "x_train"
      ],
      "execution_count": 15,
      "outputs": [
        {
          "output_type": "execute_result",
          "data": {
            "text/plain": [
              "array([[0.26640523, 0.27882353, 0.39320261, ..., 0.24104575, 0.44457516,\n",
              "        0.60127451],\n",
              "       [0.11614397, 0.07364061, 0.04166675, ..., 0.        , 0.        ,\n",
              "        0.01176471],\n",
              "       [0.07064052, 0.07456209, 0.04318954, ..., 0.21849673, 0.20275817,\n",
              "        0.17631373],\n",
              "       ...,\n",
              "       [0.11049717, 0.1179878 , 0.10827495, ..., 0.13555556, 0.1240915 ,\n",
              "        0.09664052],\n",
              "       [0.14771242, 0.25130719, 0.13137255, ..., 0.66437908, 0.61176471,\n",
              "        0.55130719],\n",
              "       [0.11614397, 0.07364061, 0.04166675, ..., 0.        , 0.        ,\n",
              "        0.01176471]])"
            ]
          },
          "metadata": {
            "tags": []
          },
          "execution_count": 15
        },
        {
          "output_type": "stream",
          "text": [
            "time: 6.54 ms (started: 2021-06-26 06:55:02 +00:00)\n"
          ],
          "name": "stdout"
        }
      ]
    },
    {
      "cell_type": "code",
      "metadata": {
        "colab": {
          "base_uri": "https://localhost:8080/"
        },
        "id": "GgiVYSS6LLLl",
        "outputId": "8e0bd831-8158-4828-86f7-129cd3404c50"
      },
      "source": [
        "from sklearn.model_selection import GridSearchCV\n",
        "from sklearn import svm\n",
        "param_grid = [\n",
        "              {'C':[1,10,100,1000],'kernel':['linear']},\n",
        "              {'C':[1,10,100,1000],'gamma':[0.001,0.0001],'kernel':['rbf']},\n",
        "]\n",
        "\n",
        "svc = svm.SVC(probability=True)\n",
        "clf = GridSearchCV(svc,param_grid)\n",
        "clf.fit(x_train,y_train)"
      ],
      "execution_count": 16,
      "outputs": [
        {
          "output_type": "execute_result",
          "data": {
            "text/plain": [
              "GridSearchCV(cv=None, error_score=nan,\n",
              "             estimator=SVC(C=1.0, break_ties=False, cache_size=200,\n",
              "                           class_weight=None, coef0=0.0,\n",
              "                           decision_function_shape='ovr', degree=3,\n",
              "                           gamma='scale', kernel='rbf', max_iter=-1,\n",
              "                           probability=True, random_state=None, shrinking=True,\n",
              "                           tol=0.001, verbose=False),\n",
              "             iid='deprecated', n_jobs=None,\n",
              "             param_grid=[{'C': [1, 10, 100, 1000], 'kernel': ['linear']},\n",
              "                         {'C': [1, 10, 100, 1000], 'gamma': [0.001, 0.0001],\n",
              "                          'kernel': ['rbf']}],\n",
              "             pre_dispatch='2*n_jobs', refit=True, return_train_score=False,\n",
              "             scoring=None, verbose=0)"
            ]
          },
          "metadata": {
            "tags": []
          },
          "execution_count": 16
        },
        {
          "output_type": "stream",
          "text": [
            "time: 1min 3s (started: 2021-06-26 06:55:02 +00:00)\n"
          ],
          "name": "stdout"
        }
      ]
    },
    {
      "cell_type": "code",
      "metadata": {
        "colab": {
          "base_uri": "https://localhost:8080/"
        },
        "id": "7RPzELgZLSwn",
        "outputId": "8999e318-42d2-423a-9f9c-5eb70721d1c9"
      },
      "source": [
        "y_pred = clf.predict(x_test)\n",
        "y_pred"
      ],
      "execution_count": 17,
      "outputs": [
        {
          "output_type": "execute_result",
          "data": {
            "text/plain": [
              "array([0, 0, 1, 2, 2, 1, 0, 1, 2, 0, 1, 0, 1, 2, 2, 1, 2, 1, 0, 1, 2, 2,\n",
              "       2, 0, 0, 0, 1])"
            ]
          },
          "metadata": {
            "tags": []
          },
          "execution_count": 17
        },
        {
          "output_type": "stream",
          "text": [
            "time: 85.9 ms (started: 2021-06-26 06:56:05 +00:00)\n"
          ],
          "name": "stdout"
        }
      ]
    },
    {
      "cell_type": "code",
      "metadata": {
        "colab": {
          "base_uri": "https://localhost:8080/"
        },
        "id": "OsN1r1C6Ls6q",
        "outputId": "1363d6c3-41bc-473d-ea12-43a0d74b3f42"
      },
      "source": [
        "y_test"
      ],
      "execution_count": 18,
      "outputs": [
        {
          "output_type": "execute_result",
          "data": {
            "text/plain": [
              "array([1, 0, 1, 2, 2, 1, 0, 1, 1, 0, 1, 0, 1, 2, 2, 1, 2, 1, 0, 1, 2, 2,\n",
              "       2, 0, 0, 0, 1])"
            ]
          },
          "metadata": {
            "tags": []
          },
          "execution_count": 18
        },
        {
          "output_type": "stream",
          "text": [
            "time: 4.11 ms (started: 2021-06-26 06:56:05 +00:00)\n"
          ],
          "name": "stdout"
        }
      ]
    },
    {
      "cell_type": "code",
      "metadata": {
        "colab": {
          "base_uri": "https://localhost:8080/"
        },
        "id": "qFGa5a0wLxdK",
        "outputId": "af0b50c1-48f1-472f-8e65-1e12a758bcb8"
      },
      "source": [
        "from sklearn.metrics import accuracy_score,confusion_matrix"
      ],
      "execution_count": 19,
      "outputs": [
        {
          "output_type": "stream",
          "text": [
            "time: 2.11 ms (started: 2021-06-26 06:56:05 +00:00)\n"
          ],
          "name": "stdout"
        }
      ]
    },
    {
      "cell_type": "code",
      "metadata": {
        "colab": {
          "base_uri": "https://localhost:8080/"
        },
        "id": "AkMipAE6L1em",
        "outputId": "e8adad96-9686-4a2a-82bc-b3c45ba2e255"
      },
      "source": [
        "accuracy_score(y_pred,y_test)"
      ],
      "execution_count": 20,
      "outputs": [
        {
          "output_type": "execute_result",
          "data": {
            "text/plain": [
              "0.9259259259259259"
            ]
          },
          "metadata": {
            "tags": []
          },
          "execution_count": 20
        },
        {
          "output_type": "stream",
          "text": [
            "time: 7.77 ms (started: 2021-06-26 06:56:05 +00:00)\n"
          ],
          "name": "stdout"
        }
      ]
    },
    {
      "cell_type": "code",
      "metadata": {
        "colab": {
          "base_uri": "https://localhost:8080/"
        },
        "id": "WQDi4rJlL8Nm",
        "outputId": "9d39f956-1441-48b6-f5fd-1edd719a48bb"
      },
      "source": [
        "confusion_matrix(y_pred,y_test)"
      ],
      "execution_count": 21,
      "outputs": [
        {
          "output_type": "execute_result",
          "data": {
            "text/plain": [
              "array([[8, 1, 0],\n",
              "       [0, 9, 0],\n",
              "       [0, 1, 8]])"
            ]
          },
          "metadata": {
            "tags": []
          },
          "execution_count": 21
        },
        {
          "output_type": "stream",
          "text": [
            "time: 7.84 ms (started: 2021-06-26 06:56:05 +00:00)\n"
          ],
          "name": "stdout"
        }
      ]
    },
    {
      "cell_type": "code",
      "metadata": {
        "colab": {
          "base_uri": "https://localhost:8080/"
        },
        "id": "w1bYSy53MBGW",
        "outputId": "cb190864-be2c-40bb-de38-4262b6b565e0"
      },
      "source": [
        "# save the model using pickle library\n",
        "import pickle\n",
        "pickle.dump(clf,open('img_model.p','wb'))"
      ],
      "execution_count": 22,
      "outputs": [
        {
          "output_type": "stream",
          "text": [
            "time: 41.3 ms (started: 2021-06-26 06:56:05 +00:00)\n"
          ],
          "name": "stdout"
        }
      ]
    },
    {
      "cell_type": "code",
      "metadata": {
        "colab": {
          "base_uri": "https://localhost:8080/"
        },
        "id": "dgOQeUtRMSO1",
        "outputId": "55fa5517-1919-42f4-e412-4fbfac3db2d2"
      },
      "source": [
        " model = pickle.load(open('img_model.p','rb'))"
      ],
      "execution_count": 23,
      "outputs": [
        {
          "output_type": "stream",
          "text": [
            "time: 15.6 ms (started: 2021-06-26 06:56:05 +00:00)\n"
          ],
          "name": "stdout"
        }
      ]
    },
    {
      "cell_type": "code",
      "metadata": {
        "id": "gx_BMQHOMYUq",
        "colab": {
          "base_uri": "https://localhost:8080/",
          "height": 360
        },
        "outputId": "09613373-f42a-4a68-8122-9657c08810dc"
      },
      "source": [
        "#Testing a brand new Image\n",
        "flat_data = []\n",
        "url = input('Enter your URL')\n",
        "img = imread(url)\n",
        "img_resized = resize(img,(150,150,3))\n",
        "flat_data.append(img_resized.flatten())\n",
        "flat_data = np.array(flat_data)\n",
        "print(img.shape)\n",
        "plt.imshow(img_resized)\n",
        "y_out = model.predict(flat_data)\n",
        "y_out = CATEGORIES[y_out[0]]\n",
        "print(f' PREDICTED OUTPUT: {y_out}')"
      ],
      "execution_count": 34,
      "outputs": [
        {
          "output_type": "stream",
          "text": [
            "Enter your URLhttps://th.bing.com/th/id/R4689780b52fa52047cecbde0ea3dd6a2?rik=Su4t%2fBBxPzJy0w&riu=http%3a%2f%2fwww.awesomeinventions.com%2fwp-content%2fuploads%2f2015%2f03%2ftron-car-driveway.jpg&ehk=uVui9x6K8T9R52p3epJMvdnP7pdw7pqJIpgILSxt4ls%3d&risl=&pid=ImgRaw\n",
            "(452, 750, 3)\n",
            " PREDICTED OUTPUT: car\n"
          ],
          "name": "stdout"
        },
        {
          "output_type": "display_data",
          "data": {
            "image/png": "[encoded data removed]",
            "text/plain": [
              "<Figure size 432x288 with 1 Axes>"
            ]
          },
          "metadata": {
            "tags": [],
            "needs_background": "light"
          }
        },
        {
          "output_type": "stream",
          "text": [
            "time: 4.27 s (started: 2021-06-26 07:06:39 +00:00)\n"
          ],
          "name": "stdout"
        }
      ]
    },
    {
      "cell_type": "code",
      "metadata": {
        "id": "T5aNOV6JMd2N"
      },
      "source": [
        ""
      ],
      "execution_count": 24,
      "outputs": []
    }
  ]
}